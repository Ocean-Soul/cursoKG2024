{
  "nbformat": 4,
  "nbformat_minor": 0,
  "metadata": {
    "colab": {
      "provenance": [],
      "include_colab_link": true
    },
    "kernelspec": {
      "name": "python3",
      "display_name": "Python 3"
    },
    "language_info": {
      "name": "python"
    }
  },
  "cells": [
    {
      "cell_type": "markdown",
      "metadata": {
        "id": "view-in-github",
        "colab_type": "text"
      },
      "source": [
        "<a href=\"https://colab.research.google.com/github/germanbraun/cursoKG/blob/main/Labs/morph-kg/alumnos_morph.ipynb\" target=\"_parent\"><img src=\"https://colab.research.google.com/assets/colab-badge.svg\" alt=\"Open In Colab\"/></a>"
      ]
    },
    {
      "cell_type": "markdown",
      "source": [
        "# **Creando nuestro propio grafo RDF usando Morph-KGC**\n",
        "\n",
        "**[Morph-KGC](https://github.com/oeg-upm/morph-kgc)** is an engine that constructs **[RDF](https://www.w3.org/TR/rdf11-concepts/)** and **[RDF-star](https://w3c.github.io/rdf-star/cg-spec/2021-12-17.html)** knowledge graphs from heterogeneous data sources with the **[R2RML](https://www.w3.org/TR/r2rml/)** and **[RML](https://w3id.org/rml/core/spec)** mapping languages. The full documentation of Morph-KGC is available in **[Read the Docs](https://morph-kgc.readthedocs.io/en/latest/)**.\n",
        "\n",
        "There are two different options to run Morph-KGC:\n",
        "\n",
        "- As a **library**, integrating with **[RDFLib](https://rdflib.readthedocs.io)** and **[Oxigraph](https://oxigraph.org/pyoxigraph)**.\n",
        "- Via the **command line**.\n",
        "\n",
        "\n",
        "This tutorial shows the different alternatives to run Morph-KGC. Here, we use [RML](https://w3id.org/rml/core/spec) mappings, but the more user-friendly [YARRRML](https://rml.io/yarrrml/spec/) mapping format is also supported. Data transformation, computation, or filtering before generating triples is also supported with [RML-FNML](https://w3id.org/rml/fnml/spec).\n",
        "\n",
        "************************\n",
        "\n",
        "Archivos de entrada para este lab:\n",
        "\n",
        "- [Mapeos RML](https://raw.githubusercontent.com/germanbraun/cursoKG/main/Labs/morph-kg/mapeos/alumnos.ttl)\n",
        "- [Dataset Alumnos](https://raw.githubusercontent.com/germanbraun/cursoKG/main/Labs/morph-kg/data/alumnos.csv)"
      ],
      "metadata": {
        "id": "jQIDSTs1PKhg"
      }
    },
    {
      "cell_type": "markdown",
      "source": [
        "Instalar [Morph-KGC](https://pypi.org/project/morph-kgc) -- también instalará [RDFLib](https://pypi.org/project/rdflib/)"
      ],
      "metadata": {
        "id": "HlzLovomSjH9"
      }
    },
    {
      "cell_type": "code",
      "source": [
        "!pip install morph-kgc==2.6.4"
      ],
      "metadata": {
        "id": "xM4SFlPkPmDZ"
      },
      "execution_count": null,
      "outputs": []
    },
    {
      "cell_type": "markdown",
      "source": [
        "Importar Morph-KGC"
      ],
      "metadata": {
        "id": "eEaaoTnkTJBu"
      }
    },
    {
      "cell_type": "code",
      "execution_count": null,
      "metadata": {
        "id": "u4UZHlZUOxBL"
      },
      "outputs": [],
      "source": [
        "import morph_kgc"
      ]
    },
    {
      "cell_type": "markdown",
      "source": [
        "Es necesario proveer un archivo de configuration **INI** como input. En este caso que usamos morph-kgc como una librería, podemos proveer dicha configuración como un string."
      ],
      "metadata": {
        "id": "90laT8Tvz4Gj"
      }
    },
    {
      "cell_type": "code",
      "source": [
        "config = \"\"\"\n",
        "             [CONFIGURATION]\n",
        "             na_values: #N/A,,N/A\n",
        "             logging_level: DEBUG\n",
        "\n",
        "             [ALUMNOS]\n",
        "             mappings: https://raw.githubusercontent.com/germanbraun/cursoKG/main/Labs/morph-kg/mapeos/alumnos.ttl\n",
        "         \"\"\""
      ],
      "metadata": {
        "id": "fL5hqV6IWa0b"
      },
      "execution_count": null,
      "outputs": []
    },
    {
      "cell_type": "markdown",
      "source": [
        "Para materializar las triplas, usamos `materialize` y pasamos la configuración a Morph-KGC para crear el grafo de conocimiento (además lo cargará a la RDFlib)"
      ],
      "metadata": {
        "id": "loiJCxBF01cp"
      }
    },
    {
      "cell_type": "code",
      "source": [
        "g = morph_kgc.materialize(config)"
      ],
      "metadata": {
        "id": "RSFNbylgTVKy"
      },
      "execution_count": null,
      "outputs": []
    },
    {
      "cell_type": "markdown",
      "source": [
        "Una vez que es grafo es generado, podemos consultar usando RDFlib"
      ],
      "metadata": {
        "id": "Q7SDl-w3eZ9T"
      }
    },
    {
      "cell_type": "code",
      "source": [
        "q3 = \"\"\"\n",
        "         SELECT * WHERE {\n",
        "             ?s ?p ?o .\n",
        "         }\n",
        "      \"\"\"\n",
        "\n",
        "q3_res = g.query(q3)\n",
        "\n",
        "for row in q3_res:\n",
        "    print(row['s'], row['p'], row['o'])"
      ],
      "metadata": {
        "id": "1T-cECqEcBbS"
      },
      "execution_count": null,
      "outputs": []
    }
  ]
}